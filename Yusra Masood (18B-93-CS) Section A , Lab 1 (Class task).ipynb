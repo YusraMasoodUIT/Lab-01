{
 "cells": [
  {
   "cell_type": "code",
   "execution_count": 2,
   "metadata": {},
   "outputs": [
    {
     "name": "stdout",
     "output_type": "stream",
     "text": [
      "Asalam u alikum, welcome to python world\n"
     ]
    }
   ],
   "source": [
    "message = \"Asalam u alikum, welcome to python world\"\n",
    "print(message)\n"
   ]
  },
  {
   "cell_type": "code",
   "execution_count": 3,
   "metadata": {},
   "outputs": [
    {
     "name": "stdout",
     "output_type": "stream",
     "text": [
      "I'm from UIT\n",
      "My teacher is great\n"
     ]
    }
   ],
   "source": [
    "message2=\"I'm from UIT\"\n",
    "message3='My teacher is great'\n",
    "print(message2)\n",
    "print(message3)"
   ]
  },
  {
   "cell_type": "markdown",
   "metadata": {},
   "source": [
    "# Lab 1 (Class task)"
   ]
  },
  {
   "cell_type": "code",
   "execution_count": 4,
   "metadata": {},
   "outputs": [
    {
     "name": "stdout",
     "output_type": "stream",
     "text": [
      "Enter your name: Yusra Masood\n",
      "Enter your age: 18\n",
      "Yusra Masood wil be 100 years old in the year 2100\n"
     ]
    }
   ],
   "source": [
    "name =input(\"Enter your name: \")\n",
    "age=int(input(\"Enter your age: \"))\n",
    "year=str((2018-age)+100)\n",
    "print(name + \" wil be 100 years old in the year \"+ year)\n"
   ]
  },
  {
   "cell_type": "code",
   "execution_count": 5,
   "metadata": {},
   "outputs": [
    {
     "name": "stdout",
     "output_type": "stream",
     "text": [
      "Twinkle twinkle little little stars \n",
      "\t How I wonder what you are\n",
      "\t\tUp above the world so high\n",
      "\t\tLike a diamond in the sky\n",
      "Twinkle Twinkle little little stars\n",
      "How I wonder what you are\n"
     ]
    }
   ],
   "source": [
    "print(\"Twinkle twinkle little little stars \\n\\t How I wonder what you are\\n\\t\\tUp above the world so high\\n\\t\\tLike a diamond in the sky\\nTwinkle Twinkle little little stars\\nHow I wonder what you are\")"
   ]
  },
  {
   "cell_type": "code",
   "execution_count": 6,
   "metadata": {},
   "outputs": [
    {
     "name": "stdout",
     "output_type": "stream",
     "text": [
      "Current date and Time is : \n",
      "2018-10-12 19:35:41\n"
     ]
    }
   ],
   "source": [
    "import datetime\n",
    "now=datetime.datetime.now()\n",
    "print(\"Current date and Time is : \")\n",
    "print(now.strftime(\"%Y-%m-%d %H:%M:%S\"))\n",
    "      "
   ]
  },
  {
   "cell_type": "code",
   "execution_count": 7,
   "metadata": {},
   "outputs": [
    {
     "name": "stdout",
     "output_type": "stream",
     "text": [
      "Enter the radius of the circle2\n",
      "The area of circle of radius 2.0 is 12.566370614359172\n"
     ]
    }
   ],
   "source": [
    "from math import pi\n",
    "r= float(input(\"Enter the radius of the circle\"))\n",
    "area= (pi*r**2)\n",
    "print(\"The area of circle of radius \" +str(r)+\" is \"+str(area))\n"
   ]
  },
  {
   "cell_type": "code",
   "execution_count": 2,
   "metadata": {},
   "outputs": [
    {
     "name": "stdout",
     "output_type": "stream",
     "text": [
      "Enter your first name Yusra\n",
      "Enter your last name Masood\n",
      "Welcome to Python World! Masood Yusra\n"
     ]
    }
   ],
   "source": [
    "firstname = input(\"Enter your first name \")\n",
    "lastname =input(\"Enter your last name \")\n",
    "print(\"Welcome to Python World! \" +lastname+ \" \" +firstname)\n"
   ]
  },
  {
   "cell_type": "code",
   "execution_count": 3,
   "metadata": {},
   "outputs": [
    {
     "name": "stdout",
     "output_type": "stream",
     "text": [
      "Input the year: 2018\n",
      "Input the month: 10\n",
      "    October 2018\n",
      "Mo Tu We Th Fr Sa Su\n",
      " 1  2  3  4  5  6  7\n",
      " 8  9 10 11 12 13 14\n",
      "15 16 17 18 19 20 21\n",
      "22 23 24 25 26 27 28\n",
      "29 30 31\n",
      "\n"
     ]
    }
   ],
   "source": [
    "import calendar\n",
    "y = int(input(\"Input the year: \"))\n",
    "m = int(input(\"Input the month: \"))\n",
    "print(calendar.month(y,m))\n"
   ]
  }
 ],
 "metadata": {
  "kernelspec": {
   "display_name": "Python 3",
   "language": "python",
   "name": "python3"
  },
  "language_info": {
   "codemirror_mode": {
    "name": "ipython",
    "version": 3
   },
   "file_extension": ".py",
   "mimetype": "text/x-python",
   "name": "python",
   "nbconvert_exporter": "python",
   "pygments_lexer": "ipython3",
   "version": "3.7.0"
  }
 },
 "nbformat": 4,
 "nbformat_minor": 2
}
