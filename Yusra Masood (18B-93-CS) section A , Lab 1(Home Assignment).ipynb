{
 "cells": [
  {
   "cell_type": "markdown",
   "metadata": {},
   "source": [
    "# Lab # 1 home assignment"
   ]
  },
  {
   "cell_type": "markdown",
   "metadata": {},
   "source": [
    "### Q3"
   ]
  },
  {
   "cell_type": "code",
   "execution_count": 1,
   "metadata": {},
   "outputs": [
    {
     "name": "stdout",
     "output_type": "stream",
     "text": [
      "Enter the length of rectangle: 3\n",
      "Enter the width of the rectangle: 4\n",
      "the area of the rectangle is 12\n"
     ]
    }
   ],
   "source": [
    "len = int(input(\"Enter the length of rectangle: \"))\n",
    "width =int(input(\"Enter the width of the rectangle: \"))\n",
    "area = len * width\n",
    "print(\"the area of the rectangle is \" +str(area))\n"
   ]
  },
  {
   "cell_type": "markdown",
   "metadata": {},
   "source": [
    "### Q4"
   ]
  },
  {
   "cell_type": "code",
   "execution_count": 2,
   "metadata": {},
   "outputs": [
    {
     "name": "stdout",
     "output_type": "stream",
     "text": [
      "Enter the radius3\n",
      "The volume of the sphere is 113.09733552923254\n"
     ]
    }
   ],
   "source": [
    "from math import pi\n",
    "rad=float(input(\"Enter the radius\"))\n",
    "vol=(4/3)*pi*(rad**3)\n",
    "print(\"The volume of the sphere is \" +str(vol))\n"
   ]
  },
  {
   "cell_type": "markdown",
   "metadata": {},
   "source": [
    "### Q5"
   ]
  },
  {
   "cell_type": "code",
   "execution_count": 8,
   "metadata": {},
   "outputs": [
    {
     "name": "stdout",
     "output_type": "stream",
     "text": [
      "Yusra Masood\n",
      "YUSRA MASOOD\n",
      "yusra masood\n"
     ]
    }
   ],
   "source": [
    "myname = \"yUsRa MaSoOd\" \n",
    "print(myname.title())\n",
    "print(myname.upper())\n",
    "print(myname.lower())"
   ]
  },
  {
   "cell_type": "markdown",
   "metadata": {},
   "source": [
    "### Q1"
   ]
  },
  {
   "cell_type": "code",
   "execution_count": 5,
   "metadata": {},
   "outputs": [
    {
     "name": "stdout",
     "output_type": "stream",
     "text": [
      "Enter temperature in degree centigrade: 32\n",
      "The temperature in degree farenhite is: 89.6\n"
     ]
    }
   ],
   "source": [
    "temp=float(input(\"Enter temperature in degree centigrade: \"))\n",
    "tempf=((temp*(9/5))+32)\n",
    "print(\"The temperature in degree farenhite is: \"+ str(tempf))\n"
   ]
  },
  {
   "cell_type": "markdown",
   "metadata": {},
   "source": [
    "### Q2"
   ]
  },
  {
   "cell_type": "code",
   "execution_count": 6,
   "metadata": {},
   "outputs": [
    {
     "name": "stdout",
     "output_type": "stream",
     "text": [
      "Enter temperature in farenhite: 110\n",
      "the temperature in degree celsius is 43.333333333333336\n"
     ]
    }
   ],
   "source": [
    "tempf=float(input(\"Enter temperature in farenhite: \"))\n",
    "tempc=((tempf-32)*5/9)\n",
    "print(\"the temperature in degree celsius is \" + str(tempc))\n"
   ]
  }
 ],
 "metadata": {
  "kernelspec": {
   "display_name": "Python 3",
   "language": "python",
   "name": "python3"
  },
  "language_info": {
   "codemirror_mode": {
    "name": "ipython",
    "version": 3
   },
   "file_extension": ".py",
   "mimetype": "text/x-python",
   "name": "python",
   "nbconvert_exporter": "python",
   "pygments_lexer": "ipython3",
   "version": "3.7.0"
  }
 },
 "nbformat": 4,
 "nbformat_minor": 2
}
